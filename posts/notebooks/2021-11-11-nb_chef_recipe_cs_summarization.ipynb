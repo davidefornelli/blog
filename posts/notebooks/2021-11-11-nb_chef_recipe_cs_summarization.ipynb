{
 "cells": [
  {
   "cell_type": "markdown",
   "metadata": {},
   "source": [
    "---\n",
    "title: Chef Recipe | Extractive summarization with Azure Text Analytics\n",
    "description: Use Chef to create summaries with Azure\n",
    "author: Davide Fornelli\n",
    "categories: [recipe, azuretextanalytics, azure, python, jupyter]\n",
    "date: \"2021-11-11\"\n",
    "image: images/recipe_cs_summary_text_horizontal.svg\n",
    "toc: true\n",
    "badges: true\n",
    "hide: false\n",
    "---"
   ]
  },
  {
   "cell_type": "markdown",
   "metadata": {},
   "source": [
    "## Call graph\n",
    "\n",
    "![Call graph](images/recipe_cs_summary_text_horizontal.svg)\n"
   ]
  },
  {
   "cell_type": "markdown",
   "metadata": {},
   "source": [
    "----"
   ]
  },
  {
   "cell_type": "markdown",
   "metadata": {},
   "source": [
    "## Configuration"
   ]
  },
  {
   "cell_type": "markdown",
   "metadata": {},
   "source": [
    "Prerequisites:\n",
    "- Add the .env file in the same folder of the notebook\n"
   ]
  },
  {
   "cell_type": "markdown",
   "metadata": {},
   "source": [
    "### Parameters"
   ]
  },
  {
   "cell_type": "code",
   "execution_count": 1,
   "metadata": {},
   "outputs": [],
   "source": [
    "gist_user = 'davidefornelli'\n",
    "gist_chef_id = '1bc116f05d09e598a1a2dcfbb0e2fc22'\n",
    "gist_ingredients_id = '5c75b7cdea330d15dcd93adbb08648c3'\n",
    "ingredients_to_import = [\n",
    "    (gist_ingredients_id, 'az_cs_summarization.py')\n",
    "]\n",
    "\n",
    "texts = [\n",
    "    '''\n",
    "        A computer is a machine that can be programmed to carry out sequences of arithmetic or logical operations automatically. Modern computers can perform generic sets of operations known as programs. These programs enable computers to perform a wide range of tasks. A computer system is a \"complete\" computer that includes the hardware, operating system (main software), and peripheral equipment needed and used for \"full\" operation. This term may also refer to a group of computers that are linked and function together, such as a computer network or computer cluster.\n",
    "        A broad range of industrial and consumer products use computers as control systems. Simple special-purpose devices like microwave ovens and remote controls are included, as are factory devices like industrial robots and computer-aided design, as well as general-purpose devices like personal computers and mobile devices like smartphones. Computers power the Internet, which links hundreds of millions of other computers and users.\n",
    "        Early computers were meant to be used only for calculations. Simple manual instruments like the abacus have aided people in doing calculations since ancient times. Early in the Industrial Revolution, some mechanical devices were built to automate long tedious tasks, such as guiding patterns for looms. More sophisticated electrical machines did specialized analog calculations in the early 20th century. The first digital electronic calculating machines were developed during World War II. The first semiconductor transistors in the late 1940s were followed by the silicon-based MOSFET (MOS transistor) and monolithic integrated circuit (IC) chip technologies in the late 1950s, leading to the microprocessor and the microcomputer revolution in the 1970s. The speed, power and versatility of computers have been increasing dramatically ever since then, with transistor counts increasing at a rapid pace (as predicted by Moore's law), leading to the Digital Revolution during the late 20th to early 21st centuries.\n",
    "        Conventionally, a modern computer consists of at least one processing element, typically a central processing unit (CPU) in the form of a microprocessor, along with some type of computer memory, typically semiconductor memory chips. The processing element carries out arithmetic and logical operations, and a sequencing and control unit can change the order of operations in response to stored information. Peripheral devices include input devices (keyboards, mice, joystick, etc.), output devices (monitor screens, printers, etc.), and input/output devices that perform both functions (e.g., the 2000s-era touchscreen). Peripheral devices allow information to be retrieved from an external source and they enable the result of operations to be saved and retrieved.\n",
    "    '''\n",
    "]\n"
   ]
  },
  {
   "cell_type": "markdown",
   "metadata": {},
   "source": [
    "## Configure environment"
   ]
  },
  {
   "cell_type": "code",
   "execution_count": 2,
   "metadata": {},
   "outputs": [
    {
     "name": "stdout",
     "output_type": "stream",
     "text": [
      "Requirement already satisfied: httpimport in /home/daforne/repos/github/davidefornelli/cookbook/.venv/lib/python3.7/site-packages (0.7.2)\n",
      "Requirement already satisfied: python-dotenv in /home/daforne/repos/github/davidefornelli/cookbook/.venv/lib/python3.7/site-packages (0.19.2)\n",
      "Note: you may need to restart the kernel to use updated packages.\n"
     ]
    }
   ],
   "source": [
    "%pip install httpimport python-dotenv\n"
   ]
  },
  {
   "cell_type": "markdown",
   "metadata": {},
   "source": [
    "### Import chef"
   ]
  },
  {
   "cell_type": "code",
   "execution_count": 3,
   "metadata": {},
   "outputs": [],
   "source": [
    "import httpimport\n",
    "\n",
    "with httpimport.remote_repo(\n",
    "    ['chef'],\n",
    "    f\"https://gist.githubusercontent.com/{gist_user}/{gist_chef_id}/raw\"\n",
    "):\n",
    "    import chef\n",
    "\n"
   ]
  },
  {
   "cell_type": "markdown",
   "metadata": {},
   "source": [
    "### Import ingredients"
   ]
  },
  {
   "cell_type": "code",
   "execution_count": 4,
   "metadata": {},
   "outputs": [],
   "source": [
    "def ingredients_import(ingredients):\n",
    "    for ingredient in ingredients:\n",
    "        mod, package = chef.process_gist_ingredient(\n",
    "            gist_id=ingredient[0],\n",
    "            gist_file=ingredient[1],\n",
    "            gist_user=gist_user\n",
    "        )\n",
    "        globals()[package] = mod\n",
    "\n",
    "\n",
    "ingredients_import(ingredients=ingredients_to_import)\n"
   ]
  },
  {
   "cell_type": "markdown",
   "metadata": {},
   "source": [
    "## Extract summaries"
   ]
  },
  {
   "cell_type": "code",
   "execution_count": 8,
   "metadata": {},
   "outputs": [],
   "source": [
    "import os\n",
    "from dotenv import load_dotenv\n",
    "load_dotenv()\n",
    "\n",
    "\n",
    "# Apply summarization\n",
    "summary_text = az_cs_summarization.summarize(\n",
    "    texts=texts,\n",
    "    cs_endpoint=os.environ['CS_TEXTANALYTICS_ENDPOINT'],\n",
    "    cs_key=os.environ['CS_TEXTANALYTICS_KEY'],\n",
    "    language='en'\n",
    ")\n"
   ]
  },
  {
   "cell_type": "markdown",
   "metadata": {},
   "source": [
    "## Results"
   ]
  },
  {
   "cell_type": "code",
   "execution_count": 9,
   "metadata": {},
   "outputs": [
    {
     "name": "stdout",
     "output_type": "stream",
     "text": [
      "A computer is a machine that can be programmed to carry out sequences of arithmetic or logical operations automatically.\n",
      "These programs enable computers to perform a wide range of tasks.\n",
      "A broad range of industrial and consumer products use computers as control systems.\n"
     ]
    }
   ],
   "source": [
    "for sx in summary_text:\n",
    "    for s in sx.sentences:\n",
    "        print(s.text)\n"
   ]
  }
 ],
 "metadata": {
  "interpreter": {
   "hash": "a8a9bc1b067a1f13c202fd57dac9f6048c28f2a5993b3f7ac7a958ce93861a76"
  },
  "kernelspec": {
   "display_name": "Python 3.7.2 64-bit ('.venv': venv)",
   "name": "python3"
  },
  "language_info": {
   "name": "python"
  }
 },
 "nbformat": 4,
 "nbformat_minor": 2
}
