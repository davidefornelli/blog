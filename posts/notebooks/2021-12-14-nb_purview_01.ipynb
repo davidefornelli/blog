{
 "cells": [
  {
   "cell_type": "markdown",
   "metadata": {},
   "source": [
    "---\n",
    "title: Purview | Custom process\n",
    "description: How to create a custom Purview dataset and process with python\n",
    "date: \"2021-12-14\"\n",
    "toc: true\n",
    "badges: true\n",
    "categories: [purview, python, jupyter]\n",
    "hide: false\n",
    "image: images/purview_custom_process.png\n",
    "---"
   ]
  },
  {
   "cell_type": "markdown",
   "metadata": {},
   "source": [
    "## Prerequisites"
   ]
  },
  {
   "cell_type": "code",
   "execution_count": 3,
   "metadata": {},
   "outputs": [
    {
     "name": "stdout",
     "output_type": "stream",
     "text": [
      "Collecting pyapacheatlas\n",
      "  Downloading pyapacheatlas-0.10.0-py3-none-any.whl (68 kB)\n",
      "     |████████████████████████████████| 68 kB 1.9 MB/s             \n",
      "\u001b[?25hCollecting openpyxl>=3.0\n",
      "  Downloading openpyxl-3.0.9-py2.py3-none-any.whl (242 kB)\n",
      "     |████████████████████████████████| 242 kB 3.8 MB/s            \n",
      "\u001b[?25hRequirement already satisfied: requests>=2.0 in /home/daforne/repos/github/davidefornelli/blog/.venv/lib/python3.7/site-packages (from pyapacheatlas) (2.26.0)\n",
      "Collecting et-xmlfile\n",
      "  Using cached et_xmlfile-1.1.0-py3-none-any.whl (4.7 kB)\n",
      "Requirement already satisfied: certifi>=2017.4.17 in /home/daforne/repos/github/davidefornelli/blog/.venv/lib/python3.7/site-packages (from requests>=2.0->pyapacheatlas) (2021.10.8)\n",
      "Requirement already satisfied: charset-normalizer~=2.0.0 in /home/daforne/repos/github/davidefornelli/blog/.venv/lib/python3.7/site-packages (from requests>=2.0->pyapacheatlas) (2.0.7)\n",
      "Requirement already satisfied: urllib3<1.27,>=1.21.1 in /home/daforne/repos/github/davidefornelli/blog/.venv/lib/python3.7/site-packages (from requests>=2.0->pyapacheatlas) (1.26.7)\n",
      "Requirement already satisfied: idna<4,>=2.5 in /home/daforne/repos/github/davidefornelli/blog/.venv/lib/python3.7/site-packages (from requests>=2.0->pyapacheatlas) (3.3)\n",
      "Installing collected packages: et-xmlfile, openpyxl, pyapacheatlas\n",
      "Successfully installed et-xmlfile-1.1.0 openpyxl-3.0.9 pyapacheatlas-0.10.0\n",
      "Note: you may need to restart the kernel to use updated packages.\n"
     ]
    }
   ],
   "source": [
    "%pip install pyapacheatlas\n"
   ]
  },
  {
   "cell_type": "markdown",
   "metadata": {},
   "source": [
    "## Code"
   ]
  },
  {
   "cell_type": "markdown",
   "metadata": {},
   "source": [
    "### Import"
   ]
  },
  {
   "cell_type": "code",
   "execution_count": 60,
   "metadata": {},
   "outputs": [],
   "source": [
    "from pyapacheatlas.auth import ServicePrincipalAuthentication\n",
    "from pyapacheatlas.core.client import PurviewClient\n",
    "from pyapacheatlas.core.entity import AtlasEntity\n",
    "from pyapacheatlas.core.typedef import EntityTypeDef\n",
    "from pyapacheatlas.core.util import GuidTracker\n",
    "from pyapacheatlas.core.typedef import ChildEndDef\n",
    "from pyapacheatlas.core.typedef import RelationshipTypeDef\n",
    "from pyapacheatlas.core.typedef import ParentEndDef\n",
    "from pyapacheatlas.core.typedef import Cardinality\n",
    "from pyapacheatlas.core.typedef import AtlasAttributeDef\n",
    "from pyapacheatlas.core import AtlasProcess\n"
   ]
  },
  {
   "cell_type": "markdown",
   "metadata": {},
   "source": [
    "### Settings"
   ]
  },
  {
   "cell_type": "code",
   "execution_count": 5,
   "metadata": {},
   "outputs": [],
   "source": [
    "tenant_id = \"\"\n",
    "client_id = \"\"\n",
    "client_secret = \"\"\n",
    "purview_name = \"\"\n"
   ]
  },
  {
   "cell_type": "markdown",
   "metadata": {},
   "source": [
    "### Clients"
   ]
  },
  {
   "cell_type": "code",
   "execution_count": 61,
   "metadata": {},
   "outputs": [],
   "source": [
    "atlas_sp = ServicePrincipalAuthentication(\n",
    "    tenant_id=tenant_id,\n",
    "    client_id=client_id,\n",
    "    client_secret=client_secret\n",
    ")\n"
   ]
  },
  {
   "cell_type": "code",
   "execution_count": 62,
   "metadata": {},
   "outputs": [],
   "source": [
    "purview_client = PurviewClient(\n",
    "    account_name=purview_name,\n",
    "    authentication=atlas_sp\n",
    ")\n"
   ]
  },
  {
   "cell_type": "markdown",
   "metadata": {},
   "source": [
    "### Entities"
   ]
  },
  {
   "cell_type": "code",
   "execution_count": 63,
   "metadata": {},
   "outputs": [],
   "source": [
    "guid_tracker = GuidTracker()\n"
   ]
  },
  {
   "cell_type": "code",
   "execution_count": 64,
   "metadata": {},
   "outputs": [],
   "source": [
    "custom_dataset = purview_client.upload_typedefs(\n",
    "    entityDefs=[\n",
    "        EntityTypeDef(\n",
    "            name=\"myCustomDataSet\",\n",
    "            superTypes=[\"DataSet\"]\n",
    "        )\n",
    "    ],\n",
    "    force_update=True\n",
    ")\n"
   ]
  },
  {
   "cell_type": "code",
   "execution_count": 66,
   "metadata": {},
   "outputs": [],
   "source": [
    "myCustomDataset01 = AtlasEntity(\n",
    "    name=\"myCustomDataset01\",\n",
    "    typeName=\"myCustomDataSet\",\n",
    "    qualified_name=\"pyapacheatlas://mycustomdataset01\",\n",
    "    guid=guid_tracker.get_guid()\n",
    ")\n",
    "myCustomDataset02 = AtlasEntity(\n",
    "    name=\"myCustomDataset02\",\n",
    "    typeName=\"myCustomDataSet\",\n",
    "    qualified_name=\"pyapacheatlas://mycustomdataset02\",\n",
    "    guid=guid_tracker.get_guid()\n",
    ")\n"
   ]
  },
  {
   "cell_type": "code",
   "execution_count": 69,
   "metadata": {},
   "outputs": [],
   "source": [
    "myCustomProcess01 = AtlasProcess(\n",
    "    name=\"myCustomProcess01\",\n",
    "    typeName=\"Process\",\n",
    "    qualified_name=\"pyapacheatlas://mycustomprocess01\",\n",
    "    inputs=[myCustomDataset01],\n",
    "    outputs=[myCustomDataset02],\n",
    "    guid=guid_tracker.get_guid()\n",
    ")\n"
   ]
  },
  {
   "cell_type": "code",
   "execution_count": 70,
   "metadata": {},
   "outputs": [],
   "source": [
    "results = purview_client.upload_entities(\n",
    "    batch=[myCustomDataset01, myCustomDataset02, myCustomProcess01]\n",
    ")\n"
   ]
  },
  {
   "cell_type": "markdown",
   "metadata": {},
   "source": [
    "## Result\n",
    "\n",
    "![Call graph](images/purview_custom_process.png)\n"
   ]
  },
  {
   "cell_type": "markdown",
   "metadata": {},
   "source": [
    "## Utils"
   ]
  },
  {
   "cell_type": "markdown",
   "metadata": {},
   "source": [
    "### Delete entities"
   ]
  },
  {
   "cell_type": "code",
   "execution_count": null,
   "metadata": {},
   "outputs": [],
   "source": [
    "purview_client.delete_typedefs(\n",
    "    entityDefs=[\n",
    "        {\"name\": \"myCustomProcess\"},\n",
    "    ]\n",
    ")\n"
   ]
  }
 ],
 "metadata": {
  "interpreter": {
   "hash": "e752ece438d5da82cf1eb3b37705c63d06d85870fa30a12376096993b2fd8c37"
  },
  "kernelspec": {
   "display_name": "Python 3.7.2 64-bit ('.venv': venv)",
   "name": "python3"
  },
  "language_info": {
   "codemirror_mode": {
    "name": "ipython",
    "version": 3
   },
   "file_extension": ".py",
   "mimetype": "text/x-python",
   "name": "python",
   "nbconvert_exporter": "python",
   "pygments_lexer": "ipython3",
   "version": "3.7.2"
  },
  "orig_nbformat": 4
 },
 "nbformat": 4,
 "nbformat_minor": 2
}
