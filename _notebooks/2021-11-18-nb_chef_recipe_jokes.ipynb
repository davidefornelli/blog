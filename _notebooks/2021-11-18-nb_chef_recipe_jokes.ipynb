{
 "cells": [
  {
   "cell_type": "markdown",
   "metadata": {},
   "source": [
    "# Chef Recipe | How to cook a joke\n",
    "> A simple example to learn how to use Chef and it's ingredients\n",
    "\n",
    "- toc: true\n",
    "- badges: true\n",
    "- comments: true\n",
    "- categories: [recipe, python, jupyter]\n",
    "- hide: false\n",
    "- image: images/social/jokes.svg\n",
    "<!-- - image: images/chart-preview.png -->"
   ]
  },
  {
   "cell_type": "markdown",
   "metadata": {},
   "source": [
    "----\n",
    "## Modules\n",
    "\n",
    "### Chef\n",
    "\n",
    "{% gist 1bc116f05d09e598a1a2dcfbb0e2fc22 chef.py %}\n",
    "\n",
    "### Ingredients\n",
    "\n",
    "{% gist 5c75b7cdea330d15dcd93adbb08648c3 joking.py %}\n"
   ]
  },
  {
   "cell_type": "markdown",
   "metadata": {},
   "source": [
    "## Call graph\n",
    "\n",
    "![Call graph](images/jokes.svg)\n"
   ]
  },
  {
   "cell_type": "markdown",
   "metadata": {},
   "source": [
    "----"
   ]
  },
  {
   "cell_type": "markdown",
   "metadata": {},
   "source": [
    "## Configuration"
   ]
  },
  {
   "cell_type": "markdown",
   "metadata": {},
   "source": [
    "### Parameters"
   ]
  },
  {
   "cell_type": "code",
   "execution_count": 1,
   "metadata": {},
   "outputs": [],
   "source": [
    "gist_user = 'davidefornelli'\n",
    "gist_chef_id = '1bc116f05d09e598a1a2dcfbb0e2fc22'\n",
    "gist_ingredients_id = '5c75b7cdea330d15dcd93adbb08648c3'\n",
    "ingredients_to_import = [\n",
    "    (gist_ingredients_id, 'joking.py')\n",
    "]\n"
   ]
  },
  {
   "cell_type": "markdown",
   "metadata": {},
   "source": [
    "## Configure environment"
   ]
  },
  {
   "cell_type": "code",
   "execution_count": 2,
   "metadata": {},
   "outputs": [
    {
     "name": "stdout",
     "output_type": "stream",
     "text": [
      "Requirement already satisfied: httpimport in /home/daforne/repos/github/davidefornelli/cookbook/.venv/lib/python3.7/site-packages (0.7.2)\n",
      "Note: you may need to restart the kernel to use updated packages.\n"
     ]
    }
   ],
   "source": [
    "%pip install httpimport\n"
   ]
  },
  {
   "cell_type": "markdown",
   "metadata": {},
   "source": [
    "### Import chef"
   ]
  },
  {
   "cell_type": "code",
   "execution_count": 3,
   "metadata": {},
   "outputs": [],
   "source": [
    "import httpimport\n",
    "\n",
    "with httpimport.remote_repo(\n",
    "    ['chef'],\n",
    "    f\"https://gist.githubusercontent.com/{gist_user}/{gist_chef_id}/raw\"\n",
    "):\n",
    "    import chef\n",
    "\n"
   ]
  },
  {
   "cell_type": "markdown",
   "metadata": {},
   "source": [
    "### Import ingredients"
   ]
  },
  {
   "cell_type": "code",
   "execution_count": 4,
   "metadata": {},
   "outputs": [
    {
     "name": "stdout",
     "output_type": "stream",
     "text": [
      "Collecting pyjokes\n",
      "  Using cached pyjokes-0.6.0-py2.py3-none-any.whl (26 kB)\n",
      "Installing collected packages: pyjokes\n",
      "Successfully installed pyjokes-0.6.0\n"
     ]
    }
   ],
   "source": [
    "def ingredients_import(ingredients):\n",
    "    for ingredient in ingredients:\n",
    "        mod, package = chef.process_gist_ingredient(\n",
    "            gist_id=ingredient[0],\n",
    "            gist_file=ingredient[1],\n",
    "            gist_user=gist_user\n",
    "        )\n",
    "        globals()[package] = mod\n",
    "\n",
    "\n",
    "ingredients_import(ingredients=ingredients_to_import)\n"
   ]
  },
  {
   "cell_type": "markdown",
   "metadata": {},
   "source": [
    "## Tell me a joke"
   ]
  },
  {
   "cell_type": "code",
   "execution_count": 11,
   "metadata": {},
   "outputs": [
    {
     "name": "stdout",
     "output_type": "stream",
     "text": [
      "How many programmers does it take to kill a cockroach? Two: one holds, the other installs Windows on it.\n"
     ]
    }
   ],
   "source": [
    "joking.tell_me_a_joke()"
   ]
  }
 ],
 "metadata": {
  "interpreter": {
   "hash": "a8a9bc1b067a1f13c202fd57dac9f6048c28f2a5993b3f7ac7a958ce93861a76"
  },
  "kernelspec": {
   "display_name": "Python 3.7.2 64-bit ('.venv': venv)",
   "name": "python3"
  },
  "language_info": {
   "name": "python",
   "version": "3.7.2"
  }
 },
 "nbformat": 4,
 "nbformat_minor": 2
}
