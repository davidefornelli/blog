{
 "cells": [
  {
   "cell_type": "markdown",
   "metadata": {},
   "source": [
    "# Summarize a text with Azure Text Analytics in Python\n",
    "> Ready to use notebook for extracting summaries from a list of strings\n",
    "\n",
    "- toc: false\n",
    "- badges: true\n",
    "- comments: true\n",
    "- categories: [jupyter, recipe, azuretextanalytics, python]\n",
    "- hide: false\n",
    "<!-- - image: images/chart-preview.png -->"
   ]
  },
  {
   "cell_type": "markdown",
   "metadata": {},
   "source": [
    "## Source code\n",
    "\n",
    "List of used gists.\n",
    "\n",
    "### Chef\n",
    "\n",
    "<!-- {% gist 1bc116f05d09e598a1a2dcfbb0e2fc22 chef.py %} -->\n",
    "<div>\n",
    "<script src=\"https://gist.github.com/1bc116f05d09e598a1a2dcfbb0e2fc22.js?file=example_001.py\"></script>\n",
    "</div>\n",
    "\n",
    "### Ingredients\n",
    "\n",
    "{% gist 5c75b7cdea330d15dcd93adbb08648c3 az_cs_summarization.py %}\n"
   ]
  },
  {
   "cell_type": "markdown",
   "metadata": {},
   "source": [
    "## Example\n",
    "\n",
    "The following example is based on specific commits:\n",
    "\n",
    "- Chef\n",
    "  - commit: ac2a18c678a457b59535272a8d95cdc0c58ea02c\n",
    "- Ingredients\n",
    "  - commit: b01c0ab18d3d50d7e2836b71e22749e805fadac6"
   ]
  },
  {
   "cell_type": "markdown",
   "metadata": {},
   "source": [
    "### Notebook"
   ]
  },
  {
   "cell_type": "code",
   "execution_count": 1,
   "metadata": {},
   "outputs": [
    {
     "name": "stdout",
     "output_type": "stream",
     "text": [
      "Requirement already satisfied: httpimport in /home/daforne/.pyenv/versions/3.7.9/envs/global379/lib/python3.7/site-packages (0.7.2)\n",
      "Note: you may need to restart the kernel to use updated packages.\n"
     ]
    }
   ],
   "source": [
    "%pip install httpimport"
   ]
  },
  {
   "cell_type": "code",
   "execution_count": 8,
   "metadata": {},
   "outputs": [],
   "source": [
    "# Requirements:\n",
    "# - httpimport\n",
    "\n",
    "# Description:\n",
    "# Summarize a list of texts with Azure Text Analytics\n",
    "\n",
    "import httpimport\n",
    "\n",
    "# GitHub username\n",
    "gist_user = 'davidefornelli'\n"
   ]
  },
  {
   "cell_type": "code",
   "execution_count": 9,
   "metadata": {},
   "outputs": [],
   "source": [
    "# Import Chef gist\n",
    "gist_chef_id = '1bc116f05d09e598a1a2dcfbb0e2fc22'"
   ]
  },
  {
   "cell_type": "code",
   "execution_count": null,
   "metadata": {},
   "outputs": [],
   "source": [
    "gist_url_chef = f\"https://gist.githubusercontent.com/{gist_user}/{gist_chef_id}/raw\"\n",
    "with httpimport.remote_repo(['chef'], gist_url_chef):\n",
    "    import chef\n"
   ]
  },
  {
   "cell_type": "code",
   "execution_count": 10,
   "metadata": {},
   "outputs": [
    {
     "name": "stdout",
     "output_type": "stream",
     "text": [
      "Requirement already satisfied: azure-ai-textanalytics==5.2.0b2 in /home/daforne/.pyenv/versions/3.7.9/envs/global379/lib/python3.7/site-packages (5.2.0b2)\n",
      "Requirement already satisfied: azure-common~=1.1 in /home/daforne/.pyenv/versions/3.7.9/envs/global379/lib/python3.7/site-packages (from azure-ai-textanalytics==5.2.0b2) (1.1.27)\n",
      "Requirement already satisfied: six>=1.11.0 in /home/daforne/.pyenv/versions/3.7.9/envs/global379/lib/python3.7/site-packages (from azure-ai-textanalytics==5.2.0b2) (1.16.0)\n",
      "Requirement already satisfied: azure-core<2.0.0,>=1.19.1 in /home/daforne/.pyenv/versions/3.7.9/envs/global379/lib/python3.7/site-packages (from azure-ai-textanalytics==5.2.0b2) (1.20.1)\n",
      "Requirement already satisfied: msrest>=0.6.21 in /home/daforne/.pyenv/versions/3.7.9/envs/global379/lib/python3.7/site-packages (from azure-ai-textanalytics==5.2.0b2) (0.6.21)\n",
      "Requirement already satisfied: requests>=2.18.4 in /home/daforne/.pyenv/versions/3.7.9/envs/global379/lib/python3.7/site-packages (from azure-core<2.0.0,>=1.19.1->azure-ai-textanalytics==5.2.0b2) (2.26.0)\n",
      "Requirement already satisfied: requests-oauthlib>=0.5.0 in /home/daforne/.pyenv/versions/3.7.9/envs/global379/lib/python3.7/site-packages (from msrest>=0.6.21->azure-ai-textanalytics==5.2.0b2) (1.3.0)\n",
      "Requirement already satisfied: certifi>=2017.4.17 in /home/daforne/.pyenv/versions/3.7.9/envs/global379/lib/python3.7/site-packages (from msrest>=0.6.21->azure-ai-textanalytics==5.2.0b2) (2021.10.8)\n",
      "Requirement already satisfied: isodate>=0.6.0 in /home/daforne/.pyenv/versions/3.7.9/envs/global379/lib/python3.7/site-packages (from msrest>=0.6.21->azure-ai-textanalytics==5.2.0b2) (0.6.0)\n",
      "Requirement already satisfied: idna<4,>=2.5 in /home/daforne/.pyenv/versions/3.7.9/envs/global379/lib/python3.7/site-packages (from requests>=2.18.4->azure-core<2.0.0,>=1.19.1->azure-ai-textanalytics==5.2.0b2) (3.3)\n",
      "Requirement already satisfied: urllib3<1.27,>=1.21.1 in /home/daforne/.pyenv/versions/3.7.9/envs/global379/lib/python3.7/site-packages (from requests>=2.18.4->azure-core<2.0.0,>=1.19.1->azure-ai-textanalytics==5.2.0b2) (1.26.7)\n",
      "Requirement already satisfied: charset-normalizer~=2.0.0 in /home/daforne/.pyenv/versions/3.7.9/envs/global379/lib/python3.7/site-packages (from requests>=2.18.4->azure-core<2.0.0,>=1.19.1->azure-ai-textanalytics==5.2.0b2) (2.0.7)\n",
      "Requirement already satisfied: oauthlib>=3.0.0 in /home/daforne/.pyenv/versions/3.7.9/envs/global379/lib/python3.7/site-packages (from requests-oauthlib>=0.5.0->msrest>=0.6.21->azure-ai-textanalytics==5.2.0b2) (3.1.1)\n"
     ]
    }
   ],
   "source": [
    "# Import Ingredients gist\n",
    "gist_ingredients_id = '5c75b7cdea330d15dcd93adbb08648c3'\n",
    "gist_ingredients_url = f\"https://gist.githubusercontent.com/{gist_user}/{gist_ingredients_id}/raw\"\n",
    "\n",
    "chef.process_ingredients(\n",
    "    gist_ids=[(gist_ingredients_id, ['az_cs_summarization.py'])]\n",
    ")\n",
    "with httpimport.remote_repo(['az_cs_summarization'], gist_ingredients_url):\n",
    "    import az_cs_summarization\n"
   ]
  },
  {
   "cell_type": "code",
   "execution_count": 11,
   "metadata": {},
   "outputs": [
    {
     "name": "stdout",
     "output_type": "stream",
     "text": [
      "[ExtractSummaryResult(id=0, sentences=[SummarySentence(text=A computer is a machine that can be programmed to carry out sequences of arithmetic or logical operations automatically., rank_score=1.0, offset=9, length=120), SummarySentence(text=These programs enable computers to perform a wide range of tasks., rank_score=0.95, offset=205, length=65), SummarySentence(text=A broad range of industrial and consumer products use computers as control systems., rank_score=0.79, offset=583, length=83)], warnings=[], statistics=None, is_error=False)]\n"
     ]
    }
   ],
   "source": [
    "# Try the summarization\n",
    "texts = [\n",
    "    '''\n",
    "        A computer is a machine that can be programmed to carry out sequences of arithmetic or logical operations automatically. Modern computers can perform generic sets of operations known as programs. These programs enable computers to perform a wide range of tasks. A computer system is a \"complete\" computer that includes the hardware, operating system (main software), and peripheral equipment needed and used for \"full\" operation. This term may also refer to a group of computers that are linked and function together, such as a computer network or computer cluster.\n",
    "        A broad range of industrial and consumer products use computers as control systems. Simple special-purpose devices like microwave ovens and remote controls are included, as are factory devices like industrial robots and computer-aided design, as well as general-purpose devices like personal computers and mobile devices like smartphones. Computers power the Internet, which links hundreds of millions of other computers and users.\n",
    "        Early computers were meant to be used only for calculations. Simple manual instruments like the abacus have aided people in doing calculations since ancient times. Early in the Industrial Revolution, some mechanical devices were built to automate long tedious tasks, such as guiding patterns for looms. More sophisticated electrical machines did specialized analog calculations in the early 20th century. The first digital electronic calculating machines were developed during World War II. The first semiconductor transistors in the late 1940s were followed by the silicon-based MOSFET (MOS transistor) and monolithic integrated circuit (IC) chip technologies in the late 1950s, leading to the microprocessor and the microcomputer revolution in the 1970s. The speed, power and versatility of computers have been increasing dramatically ever since then, with transistor counts increasing at a rapid pace (as predicted by Moore's law), leading to the Digital Revolution during the late 20th to early 21st centuries.\n",
    "        Conventionally, a modern computer consists of at least one processing element, typically a central processing unit (CPU) in the form of a microprocessor, along with some type of computer memory, typically semiconductor memory chips. The processing element carries out arithmetic and logical operations, and a sequencing and control unit can change the order of operations in response to stored information. Peripheral devices include input devices (keyboards, mice, joystick, etc.), output devices (monitor screens, printers, etc.), and input/output devices that perform both functions (e.g., the 2000s-era touchscreen). Peripheral devices allow information to be retrieved from an external source and they enable the result of operations to be saved and retrieved.\n",
    "    '''\n",
    "]\n",
    "\n",
    "summary_text = az_cs_summarization.summarize(\n",
    "    texts=texts,\n",
    "    cs_endpoint='https://westus2.api.cognitive.microsoft.com/',\n",
    "    cs_key='',\n",
    "    language='en'\n",
    ")\n",
    "\n",
    "print(summary_text)\n"
   ]
  }
 ],
 "metadata": {
  "interpreter": {
   "hash": "a0ca3410183d10e475620ce270fad7dce3bae4d81a02eb3a6238ed7b35e8b776"
  },
  "kernelspec": {
   "display_name": "Python 3.7.9 64-bit ('global379': pyenv)",
   "name": "python3"
  },
  "language_info": {
   "codemirror_mode": {
    "name": "ipython",
    "version": 3
   },
   "file_extension": ".py",
   "mimetype": "text/x-python",
   "name": "python",
   "nbconvert_exporter": "python",
   "pygments_lexer": "ipython3",
   "version": "3.7.9"
  },
  "orig_nbformat": 4
 },
 "nbformat": 4,
 "nbformat_minor": 2
}
